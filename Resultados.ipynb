{
 "cells": [
  {
   "cell_type": "markdown",
   "id": "73d3287d",
   "metadata": {},
   "source": [
    "<center><img src=\"./esq.svg\"></center>"
   ]
  },
  {
   "cell_type": "code",
   "execution_count": 4,
   "id": "0cf50b7a",
   "metadata": {},
   "outputs": [],
   "source": [
    "import Motor as Mot\n",
    "import matplotlib.pyplot as plt\n",
    "import numpy as np"
   ]
  },
  {
   "cell_type": "code",
   "execution_count": 5,
   "id": "cf10d8b0",
   "metadata": {},
   "outputs": [
    {
     "data": {
      "text/plain": [
       "(25866.1259206929,\n",
       " 1053.8377315628009,\n",
       " 17.1571962362497,\n",
       " 5943.373258291895,\n",
       " 0.38587112719075845,\n",
       " 0.82666397423113,\n",
       " 0.3189857595445582)"
      ]
     },
     "execution_count": 5,
     "metadata": {},
     "output_type": "execute_result"
    }
   ],
   "source": [
    "Comb = 0 # Combustible seleccionado de 0 a 6 'Jet A-1','Jet50/Bio50', 'Metanol','Etanol','Metano','Etano','Hidrogeno'\n",
    "Λ = 11 # Relacion de derivacion del turbofan \n",
    "M = 0.8 # Mach de vuelo\n",
    "alt = 11000 # altitud de vuelo en metros\n",
    "tempc = 1260 # temperatura de salida de la camara de combustion K \n",
    "rend = 4 # Nivel tecnologico del motor, 4 de ultima generacion, 1 inicios de la aviacion, 0 ideal \n",
    "\n",
    "Mot.Motor_tipo(Comb, Λ, M, alt, tempc, rend)"
   ]
  },
  {
   "cell_type": "code",
   "execution_count": 7,
   "id": "500b4013",
   "metadata": {},
   "outputs": [],
   "source": [
    "%matplotlib qt"
   ]
  },
  {
   "cell_type": "code",
   "execution_count": 9,
   "id": "e1f8dcbd",
   "metadata": {
    "scrolled": true
   },
   "outputs": [],
   "source": [
    "FL = np.linspace(9000, 12000)\n",
    "Fuel = [0,1,2,3,4,5,6]\n",
    "FName = ['Jet A-1','Jet50/Bio50', 'Metanol','Etanol','Metano','Etano','Hidrogeno']\n",
    "E = []\n",
    "E_sp = []\n",
    "Ce = []\n",
    "I_s = []\n",
    "r_m = []\n",
    "r_p = []\n",
    "r_mp = []\n",
    "\n",
    "\n",
    "for j in Fuel:\n",
    "    for i in FL:\n",
    "        E0, Esp, Ce0, I_sp, re_m, re_p, re_mp = Mot.Motor_tipo(j, 11, 0.8, i, 1260, 4)\n",
    "        E.append(E0)\n",
    "        E_sp.append(Esp)\n",
    "        Ce.append(Ce0)\n",
    "        I_s.append(I_sp)\n",
    "        r_m.append(re_m)\n",
    "        r_p.append(re_p)\n",
    "        r_mp.append(re_mp)\n",
    "\n",
    "    plt.rcParams['font.size'] = '20'\n",
    "    \n",
    "    plt.xlabel('Altitud (m)' )\n",
    "    plt.ylabel('Empuje N' )\n",
    "    plt.plot(FL, E, label = FName[j], linewidth=3)\n",
    "    plt.grid(True)\n",
    "    \n",
    "    plt.legend()\n",
    "    \n",
    "    E = []\n",
    "    E_sp = []\n",
    "    Ce = []\n",
    "    I_s = []\n",
    "    r_m = []\n",
    "    r_p = []\n",
    "    r_mp = []\n",
    "\n",
    "plt.xlim([9000, 12000])\n",
    "plt.show()"
   ]
  },
  {
   "cell_type": "code",
   "execution_count": null,
   "id": "3bf163e6",
   "metadata": {},
   "outputs": [],
   "source": [
    "    plt.xlabel('Altitud (m)' )\n",
    "    plt.ylabel('Empuje N' )\n",
    "    plt.plot(FL, E, label = FName[j], linewidth=3)\n",
    "    plt.grid(True)\n",
    "    \n",
    "    plt.xlabel('Altitud (m)' )\n",
    "    plt.ylabel('Empuje específico (N·s/kg)' )\n",
    "    plt.plot(FL, E_sp, label = FName[j], linewidth=3)\n",
    "    plt.grid(True)\n",
    "    \n",
    "    plt.xlabel('Altitud (m)' )\n",
    "    plt.ylabel('Consumo específico (g/kN/s)' )\n",
    "    plt.plot(FL, Ce, label = FName[j], linewidth=3)\n",
    "    plt.grid(True)\n",
    "    \n",
    "    plt.xlabel('Altitud (m)' )\n",
    "    plt.ylabel('Impulso específico (s)' )\n",
    "    plt.plot(FL, I_s, label = FName[j], linewidth=3)\n",
    "    plt.grid(True)\n",
    "    \n",
    "    plt.xlabel('Altitud (m)' )\n",
    "    plt.ylabel('Rendimiento Motor' )\n",
    "    plt.plot(FL, r_m, label = FName[j], linewidth=3)\n",
    "    plt.grid(True)\n",
    "    \n",
    "    plt.xlabel('Altitud (m)' )\n",
    "    plt.ylabel('Rendimiento Propulsor' )\n",
    "    plt.plot(FL, r_p, label = FName[j], linewidth=3)\n",
    "    plt.grid(True)\n",
    "    \n",
    "    plt.xlabel('Altitud (m)' )\n",
    "    plt.ylabel('Rendimiento Motopropulsor' )\n",
    "    plt.plot(FL, r_mp, label = FName[j], linewidth=3)\n",
    "    plt.grid(True) "
   ]
  }
 ],
 "metadata": {
  "kernelspec": {
   "display_name": "Python 3 (ipykernel)",
   "language": "python",
   "name": "python3"
  },
  "language_info": {
   "codemirror_mode": {
    "name": "ipython",
    "version": 3
   },
   "file_extension": ".py",
   "mimetype": "text/x-python",
   "name": "python",
   "nbconvert_exporter": "python",
   "pygments_lexer": "ipython3",
   "version": "3.8.5"
  }
 },
 "nbformat": 4,
 "nbformat_minor": 5
}
